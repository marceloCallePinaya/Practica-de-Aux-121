{
 "cells": [
  {
   "cell_type": "markdown",
   "id": "174b2efb-458f-423b-8b75-3600eb4d6cc1",
   "metadata": {},
   "source": [
    "<center><h1>INTRODUCCION A LA PROGRAMACION ORIENTADA A OBJETOS</h1></center>"
   ]
  },
  {
   "cell_type": "markdown",
   "id": "360cc412-9864-4bfa-9609-e106e50bc4f6",
   "metadata": {},
   "source": [
    "## Ejercicio 01"
   ]
  },
  {
   "cell_type": "code",
   "execution_count": 49,
   "id": "0c138878-1b88-487b-ba66-b83b284ae681",
   "metadata": {},
   "outputs": [
    {
     "name": "stdout",
     "output_type": "stream",
     "text": [
      "Hola, soy Marcos de La Paz\n",
      "Marcos es mayor de edad\n",
      "\n",
      "Hola, soy Maria de Oruro\n",
      "Maria es menor de edad\n",
      "\n",
      "Hola, soy Roberto de Pando\n",
      "Roberto es mayor de edad\n"
     ]
    }
   ],
   "source": [
    "class Persona:\n",
    "    def __init__(self, nombre, edad, ciudad):\n",
    "        self.nombre = nombre\n",
    "        self.edad = edad \n",
    "        self.ciudad = ciudad\n",
    "\n",
    "    def saludo(self):\n",
    "        print(f'Hola, soy {self.nombre} de {self.ciudad}')\n",
    "\n",
    "    def verificarEdad(self):\n",
    "        if(self.edad >=  18):\n",
    "            print(f'{self.nombre} es mayor de edad')\n",
    "        else:\n",
    "            print(f'{self.nombre} es menor de edad')\n",
    "\n",
    "p1 = Persona('Marcos', 21, 'La Paz')\n",
    "p1.saludo()\n",
    "p1.verificarEdad()\n",
    "print()\n",
    "p2 = Persona('Maria', 15, 'Oruro')\n",
    "p2.saludo()\n",
    "p2.verificarEdad()\n",
    "print()\n",
    "p3 = Persona('Roberto', 19, 'Pando')\n",
    "p3.saludo()\n",
    "p3.verificarEdad()"
   ]
  },
  {
   "cell_type": "markdown",
   "id": "57acaa58-a577-4a53-b19b-78534b2d6003",
   "metadata": {},
   "source": [
    "## Ejercicio 03"
   ]
  },
  {
   "cell_type": "code",
   "execution_count": 50,
   "id": "a5b64364-8855-4744-95f9-8c7b906f472d",
   "metadata": {},
   "outputs": [
    {
     "name": "stdout",
     "output_type": "stream",
     "text": [
      "El coche esta acelerando : 110 km\n",
      "El coche esta frenando : 105 km\n",
      "\n",
      "El coche esta acelerando : 140 km\n",
      "El coche esta frenando : 135 km\n"
     ]
    }
   ],
   "source": [
    "class Coche:\n",
    "    def __init__(self, marca, modelo, velocidad):\n",
    "        self.marca = marca\n",
    "        self.modelo = modelo\n",
    "        self.velocidad = velocidad\n",
    "\n",
    "    def acelerar(self):\n",
    "        self.velocidad += 10\n",
    "        return self.velocidad\n",
    "\n",
    "    def frenar(self):\n",
    "        self.velocidad -= 5\n",
    "        return self.velocidad\n",
    "\n",
    "c1 = Coche('Toyota', 1999, 100)\n",
    "print(f'El coche esta acelerando : {c1.acelerar()} km')\n",
    "print(f'El coche esta frenando : {c1.frenar()} km')\n",
    "print()\n",
    "c2 = Coche('Honda ', 2020, 130)\n",
    "print(f'El coche esta acelerando : {c2.acelerar()} km')\n",
    "print(f'El coche esta frenando : {c2.frenar()} km')"
   ]
  },
  {
   "cell_type": "markdown",
   "id": "01439a98-01b9-4ee1-ad5f-bf83447e425c",
   "metadata": {},
   "source": [
    "## Ejercicio 05"
   ]
  },
  {
   "cell_type": "code",
   "execution_count": 48,
   "id": "31d4856c-4667-46a3-ab02-78e4c7cb57d6",
   "metadata": {},
   "outputs": [
    {
     "name": "stdout",
     "output_type": "stream",
     "text": [
      "Jose Aprrobo\n",
      "Promedio: 7.5\n",
      "\n",
      "Maria Reprobo\n",
      "Promedio: 4.0\n",
      "\n",
      "Andres Aprrobo\n",
      "Promedio: 6.5\n"
     ]
    }
   ],
   "source": [
    "class Estudiante:\n",
    "    def __init__(self, nombre, nota_1, nota_2):\n",
    "        self.nombre = nombre\n",
    "        self.nota_1 = nota_1\n",
    "        self.nota_2 = nota_2\n",
    "\n",
    "    def calcularPromedio(self):\n",
    "        return (self.nota_1 + self.nota_2)/2\n",
    "\n",
    "    def verificarNota(self):\n",
    "        if(self.calcularPromedio() >= 6):\n",
    "            print(f'{self.nombre} Aprrobo\\nPromedio: {self.calcularPromedio()}')\n",
    "        else:\n",
    "            print(f'{self.nombre} Reprobo\\nPromedio: {self.calcularPromedio()}')\n",
    "\n",
    "e1 = Estudiante('Jose', 8, 7)\n",
    "e1.verificarNota()\n",
    "print()\n",
    "e2 = Estudiante('Maria', 2, 6)\n",
    "e2.verificarNota()\n",
    "print()\n",
    "e3 = Estudiante('Andres', 3, 10)\n",
    "e3.verificarNota()"
   ]
  },
  {
   "cell_type": "markdown",
   "id": "83f94f74-fcdb-4cf8-ab79-8e73ab16ed2b",
   "metadata": {},
   "source": [
    "## Ejercicio 07"
   ]
  },
  {
   "cell_type": "code",
   "execution_count": 2,
   "id": "69a4ccdb-96c2-453c-909a-223c00565027",
   "metadata": {},
   "outputs": [
    {
     "name": "stdout",
     "output_type": "stream",
     "text": [
      "Se Instalo Facebook\n",
      "Se Instalo Candy Crush\n",
      "Se Instalo Notas\n",
      "Se Instalo Maps\n",
      "\n",
      "Usando \"Notas\" por 20 minutos.\n",
      "Batería restante: 98%\n",
      "Usando \"Facebook\" por 30 minutos.\n",
      "Batería restante: 92%\n",
      "Usando \"Candy Crush\" por 40 minutos.\n",
      "Batería restante: 72%\n",
      "Celular apagado\n",
      "Batería restante: 0%\n",
      "Celular apagado\n"
     ]
    }
   ],
   "source": [
    "class Celular:\n",
    "    def __init__(self):\n",
    "        self.espacio = 1024\n",
    "        self.max = 20\n",
    "        self.aplicaciones = []\n",
    "        self.bateria = 100\n",
    "\n",
    "    def instalarApp(self, nombre, peso):\n",
    "        if len(self.aplicaciones) < self.max:\n",
    "            if peso <= self.espacio:\n",
    "                self.espacio -= peso\n",
    "                app = [nombre, peso]\n",
    "                self.aplicaciones.append(app)\n",
    "                print(f'Se Instalo {nombre}')\n",
    "            else:\n",
    "                print('Memoria llena.')\n",
    "        else:\n",
    "            print('Máximo de aplicaciones alcanzado.')\n",
    "\n",
    "    def utlizarApp(self, nombre, minutos):\n",
    "        if self.bateria <= 0:\n",
    "            print('Celular apagado')\n",
    "            return\n",
    "\n",
    "        app = next((a for a in self.aplicaciones if a[0] == nombre), False)\n",
    "        if not app:\n",
    "            print('Aplicación no encontrada.')\n",
    "            return\n",
    "\n",
    "        peso = app[1]\n",
    "        if peso > 250:\n",
    "            consumo = 5\n",
    "        elif peso > 100:\n",
    "            consumo = 2\n",
    "        else:\n",
    "            consumo = 1\n",
    "\n",
    "        min10 = minutos // 10\n",
    "        total = consumo * min10\n",
    "\n",
    "        if self.bateria - total <= 0:\n",
    "            self.bateria = 0\n",
    "            print('Celular apagado')\n",
    "        else:\n",
    "            self.bateria -= total\n",
    "            print(f'Usando \"{nombre}\" por {minutos} minutos.')\n",
    "\n",
    "    def mostrarBateria(self):\n",
    "        print(f'Batería restante: {self.bateria}%')\n",
    "\n",
    "\n",
    "cel = Celular()\n",
    "cel.instalarApp(\"Facebook\", 150)\n",
    "cel.instalarApp(\"Candy Crush\", 300)\n",
    "cel.instalarApp(\"Notas\", 50)\n",
    "cel.instalarApp(\"Maps\", 120)\n",
    "print()\n",
    "cel.utlizarApp(\"Notas\", 20)\n",
    "cel.mostrarBateria()\n",
    "cel.utlizarApp(\"Facebook\", 30)\n",
    "cel.mostrarBateria()\n",
    "cel.utlizarApp(\"Candy Crush\", 40)\n",
    "cel.mostrarBateria()\n",
    "cel.utlizarApp(\"Maps\", 600)\n",
    "cel.mostrarBateria()\n",
    "cel.utlizarApp(\"Notas\", 10)"
   ]
  },
  {
   "cell_type": "markdown",
   "id": "6189e8af-2043-4931-9b91-b7d83dd16389",
   "metadata": {},
   "source": [
    "## Ejercicio 09"
   ]
  },
  {
   "cell_type": "code",
   "execution_count": 10,
   "id": "a32852ca-c078-4e2f-a47e-e00d8ed6cd40",
   "metadata": {},
   "outputs": [
    {
     "name": "stdout",
     "output_type": "stream",
     "text": [
      "Componentes: \n",
      "Procesador: Intel Core i5 \n",
      "Ram: 8GB \n",
      "Alamacenamiento: 250GB\n",
      "\n",
      "Estado de la computadora: apagada\n",
      "La computadora esta encendida\n",
      "Estado de la computadora: encendida\n",
      "La computadora es apagada\n",
      "Estado de la computadora: apagada\n"
     ]
    }
   ],
   "source": [
    "class Computadora:\n",
    "    def __init__(self, procesador, ram, almacenamiento):\n",
    "        self.procesador = procesador\n",
    "        self.ram = ram\n",
    "        self.almacenamiento = almacenamiento\n",
    "        self.estado = 'apagada'\n",
    "\n",
    "    def componentes(self):\n",
    "        print(f'Componentes: \\nProcesador: {self.procesador} \\nRam: {self.ram}GB \\nAlamacenamiento: {self.almacenamiento}GB')\n",
    "        \n",
    "    def estadoComputadora(self):\n",
    "        print(f'Estado de la computadora: {self.estado}')\n",
    "\n",
    "    def encender(self):\n",
    "        self.estado = 'encendida'\n",
    "        print('La computadora esta encendida')\n",
    "\n",
    "    def apagar(self):\n",
    "        self.estado = 'apagada'\n",
    "        print('La computadora es apagada')\n",
    "\n",
    "c1 = Computadora('Intel Core i5', 8, 250)\n",
    "c1.componentes()\n",
    "print()\n",
    "c1.estadoComputadora()\n",
    "c1.encender()\n",
    "c1.estadoComputadora()\n",
    "c1.apagar()\n",
    "c1.estadoComputadora()"
   ]
  },
  {
   "cell_type": "markdown",
   "id": "411bf47e-9775-424b-8dad-32254541a895",
   "metadata": {},
   "source": [
    "<center><h1>POLIMORFISMO</h1></center>"
   ]
  },
  {
   "cell_type": "markdown",
   "id": "14c0066f-f65a-4fb1-a7a8-fddad3d4dcce",
   "metadata": {},
   "source": [
    "## Ejercicio 01"
   ]
  },
  {
   "cell_type": "code",
   "execution_count": 23,
   "id": "59640d32-1587-46e8-bb12-1f91d70c8086",
   "metadata": {},
   "outputs": [
    {
     "name": "stdout",
     "output_type": "stream",
     "text": [
      "Este juego no admite más jugadores\n",
      "Nombre: The Legend of Zelda, Plataforma: Nintendo Switch, Jugadores: 1\n",
      "Nombre: FIFA 23, Plataforma: PlayStation 5, Jugadores: 3\n"
     ]
    }
   ],
   "source": [
    "class Videojuego:\n",
    "    def __init__(self, nombre, plataforma, cantidadJugadores=1):\n",
    "        self.nombre = nombre\n",
    "        self.plataforma = plataforma\n",
    "        self.cantidadJugadores = cantidadJugadores\n",
    "\n",
    "    def mostrar(self):\n",
    "        print(f\"Nombre: {self.nombre}, Plataforma: {self.plataforma}, Jugadores: {self.cantidadJugadores}\")\n",
    "\n",
    "    def agregarJugadores(self, cantidad=1):\n",
    "        self.cantidadJugadores += cantidad\n",
    "\n",
    "class UnJugador(Videojuego):\n",
    "    def agregarJugadores(self, cantidad=1):\n",
    "        print(\"Este juego no admite más jugadores\")\n",
    "\n",
    "class Multijugador(Videojuego):\n",
    "    def agregarJugadores(self, cantidad=1):\n",
    "        self.cantidadJugadores += cantidad\n",
    "\n",
    "zelda = UnJugador(\"The Legend of Zelda\", \"Nintendo Switch\")\n",
    "fifa = Multijugador(\"FIFA 23\", \"PlayStation 5\")\n",
    "\n",
    "zelda.agregarJugadores(2)\n",
    "zelda.mostrar()\n",
    "fifa.agregarJugadores(2)\n",
    "fifa.mostrar()"
   ]
  },
  {
   "cell_type": "markdown",
   "id": "53f89fc5-b461-489d-b8f2-3770d60495d9",
   "metadata": {},
   "source": [
    "## Ejercicio 03"
   ]
  },
  {
   "cell_type": "code",
   "execution_count": 24,
   "id": "838c2b03-eb4b-4863-b131-a9fe8439b35c",
   "metadata": {},
   "outputs": [
    {
     "name": "stdout",
     "output_type": "stream",
     "text": [
      "Sueldo total de Juan: $2050\n",
      "Sueldo total de Ana: $1724\n",
      "Sueldo total de Luis: $1766\n"
     ]
    }
   ],
   "source": [
    "class Empleado:\n",
    "    def __init__(self, nombre, sueldoMes):\n",
    "        self.nombre = nombre\n",
    "        self.sueldoMes = sueldoMes\n",
    "\n",
    "    def sueldoTotal(self):\n",
    "        pass\n",
    "\n",
    "class Cocinero(Empleado):\n",
    "    def __init__(self, nombre, sueldoMes, horasExtra, sueldoHora):\n",
    "        super().__init__(nombre, sueldoMes)\n",
    "        self.horasExtra = horasExtra\n",
    "        self.sueldoHora = sueldoHora\n",
    "\n",
    "    def sueldoTotal(self):\n",
    "        return self.sueldoMes + (self.horasExtra * self.sueldoHora)\n",
    "\n",
    "class Mesero(Empleado):\n",
    "    def __init__(self, nombre, sueldoMes, horasExtra, sueldoHora, propina):\n",
    "        super().__init__(nombre, sueldoMes)\n",
    "        self.horasExtra = horasExtra\n",
    "        self.sueldoHora = sueldoHora\n",
    "        self.propina = propina\n",
    "\n",
    "    def sueldoTotal(self):\n",
    "        return self.sueldoMes + (self.horasExtra * self.sueldoHora) + self.propina\n",
    "\n",
    "cocinero = Cocinero(\"Juan\", 2000, 5, 10)\n",
    "print(f\"Sueldo total de Juan: ${cocinero.sueldoTotal()}\")\n",
    "mesero1 = Mesero(\"Ana\", 1500, 3, 8, 200)\n",
    "print(f\"Sueldo total de Ana: ${mesero1.sueldoTotal()}\")\n",
    "mesero2 = Mesero(\"Luis\", 1600, 2, 8, 150)\n",
    "print(f\"Sueldo total de Luis: ${mesero2.sueldoTotal()}\")"
   ]
  },
  {
   "cell_type": "markdown",
   "id": "252e2a95-3c29-484d-8083-3c69e7985909",
   "metadata": {},
   "source": [
    "## Ejercicio 05"
   ]
  },
  {
   "cell_type": "code",
   "execution_count": 25,
   "id": "70f77690-8b1e-44a4-9df6-e883641dcad2",
   "metadata": {},
   "outputs": [
    {
     "name": "stdout",
     "output_type": "stream",
     "text": [
      "Muebles en Oficina1: 10\n",
      "Muebles en Oficina2: 7\n",
      "Muebles en Aula1: 45\n",
      "Muebles en Aula2: 45\n"
     ]
    }
   ],
   "source": [
    "class Ambiente:\n",
    "    def cantidadMuebles(self):\n",
    "        pass\n",
    "\n",
    "class Oficina(Ambiente):\n",
    "    def __init__(self, sillas, escritorios, estanterias):\n",
    "        self.sillas = sillas\n",
    "        self.escritorios = escritorios\n",
    "        self.estanterias = estanterias\n",
    "\n",
    "    def cantidadMuebles(self):\n",
    "        return self.sillas + self.escritorios + self.estanterias\n",
    "\n",
    "class Aula(Ambiente):\n",
    "    def __init__(self, sillas, pupitres):\n",
    "        self.sillas = sillas\n",
    "        self.pupitres = pupitres\n",
    "\n",
    "    def cantidadMuebles(self):\n",
    "        return self.sillas + self.pupitres\n",
    "\n",
    "oficina1 = Oficina(5, 3, 2)\n",
    "print(f\"Muebles en Oficina1: {oficina1.cantidadMuebles()}\")\n",
    "oficina2 = Oficina(4, 2, 1)\n",
    "print(f\"Muebles en Oficina2: {oficina2.cantidadMuebles()}\")\n",
    "aula1 = Aula(30, 15)\n",
    "print(f\"Muebles en Aula1: {aula1.cantidadMuebles()}\")\n",
    "aula2 = Aula(25, 20)\n",
    "print(f\"Muebles en Aula2: {aula2.cantidadMuebles()}\")"
   ]
  },
  {
   "cell_type": "markdown",
   "id": "441480ff-f42a-4d32-b207-64a877059cf2",
   "metadata": {},
   "source": [
    "## Ejercicio 07"
   ]
  },
  {
   "cell_type": "code",
   "execution_count": 21,
   "id": "34030c03-2b71-4713-9d09-99b924968568",
   "metadata": {},
   "outputs": [
    {
     "name": "stdout",
     "output_type": "stream",
     "text": [
      "¡Guau!\n",
      "Corriendo\n",
      "¡Miau!\n",
      "Saltando\n",
      "¡Pío!\n",
      "Volando\n"
     ]
    }
   ],
   "source": [
    "class Animal:\n",
    "    def hacerSonido(self):\n",
    "        pass\n",
    "\n",
    "    def moverse(self):\n",
    "        pass\n",
    "\n",
    "class Perro(Animal):\n",
    "    def hacerSonido(self):\n",
    "        print(\"¡Guau!\")\n",
    "\n",
    "    def moverse(self):\n",
    "        print(\"Corriendo\")\n",
    "\n",
    "class Gato(Animal):\n",
    "    def hacerSonido(self):\n",
    "        print(\"¡Miau!\")\n",
    "\n",
    "    def moverse(self):\n",
    "        print(\"Saltando\")\n",
    "\n",
    "class Pajaro(Animal):\n",
    "    def hacerSonido(self):\n",
    "        print(\"¡Pío!\")\n",
    "\n",
    "    def moverse(self):\n",
    "        print(\"Volando\")\n",
    "\n",
    "perro = Perro()\n",
    "gato = Gato()\n",
    "pajaro = Pajaro()\n",
    "\n",
    "perro.hacerSonido()\n",
    "perro.moverse()\n",
    "gato.hacerSonido()\n",
    "gato.moverse()\n",
    "pajaro.hacerSonido()\n",
    "pajaro.moverse()"
   ]
  },
  {
   "cell_type": "markdown",
   "id": "c68c4442-eaa2-4891-bd72-5ea03a071bfb",
   "metadata": {},
   "source": [
    "## Ejercicio 09"
   ]
  },
  {
   "cell_type": "code",
   "execution_count": 22,
   "id": "ea93aadb-b488-4da7-b4b5-e19a76bc7052",
   "metadata": {},
   "outputs": [
    {
     "name": "stdout",
     "output_type": "stream",
     "text": [
      "Abriendo cofre...\n",
      "¡Cuidado! El cofre puede contener objetos\n",
      "¡Explosión inminente!\n",
      "¡BOOM! La TNT explotó\n",
      "Fundiendo materiales...\n",
      "El horno se ha roto\n"
     ]
    }
   ],
   "source": [
    "class Bloque:\n",
    "    def accion(self):\n",
    "        pass\n",
    "\n",
    "    def romper(self):\n",
    "        pass\n",
    "\n",
    "class BloqueCofre(Bloque):\n",
    "    def accion(self):\n",
    "        print(\"Abriendo cofre...\")\n",
    "\n",
    "    def romper(self):\n",
    "        print(\"¡Cuidado! El cofre puede contener objetos\")\n",
    "\n",
    "class BloqueTnt(Bloque):\n",
    "    def accion(self):\n",
    "        print(\"¡Explosión inminente!\")\n",
    "\n",
    "    def romper(self):\n",
    "        print(\"¡BOOM! La TNT explotó\")\n",
    "\n",
    "class BloqueHorno(Bloque):\n",
    "    def accion(self):\n",
    "        print(\"Fundiendo materiales...\")\n",
    "\n",
    "    def romper(self):\n",
    "        print(\"El horno se ha roto\")\n",
    "\n",
    "cofre = BloqueCofre()\n",
    "tnt = BloqueTnt()\n",
    "horno = BloqueHorno()\n",
    "\n",
    "cofre.accion()\n",
    "cofre.romper()\n",
    "tnt.accion()\n",
    "tnt.romper()\n",
    "horno.accion()\n",
    "horno.romper()"
   ]
  },
  {
   "cell_type": "code",
   "execution_count": null,
   "id": "cc888250-8ba9-4831-b57f-49f64130671d",
   "metadata": {},
   "outputs": [],
   "source": []
  }
 ],
 "metadata": {
  "kernelspec": {
   "display_name": "Python 3 (ipykernel)",
   "language": "python",
   "name": "python3"
  },
  "language_info": {
   "codemirror_mode": {
    "name": "ipython",
    "version": 3
   },
   "file_extension": ".py",
   "mimetype": "text/x-python",
   "name": "python",
   "nbconvert_exporter": "python",
   "pygments_lexer": "ipython3",
   "version": "3.13.2"
  }
 },
 "nbformat": 4,
 "nbformat_minor": 5
}
